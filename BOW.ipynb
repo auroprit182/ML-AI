{
 "cells": [
  {
   "cell_type": "code",
   "execution_count": 1,
   "metadata": {},
   "outputs": [],
   "source": [
    "#Implement Bag Of Words"
   ]
  },
  {
   "cell_type": "code",
   "execution_count": 18,
   "metadata": {},
   "outputs": [],
   "source": [
    "import warnings\n",
    "warnings.filterwarnings(\"ignore\")\n",
    "import pandas as pd\n",
    "from tqdm import tqdm\n",
    "import os\n",
    "from collections import Counter\n",
    "from scipy.sparse import csr_matrix"
   ]
  },
  {
   "cell_type": "code",
   "execution_count": 19,
   "metadata": {},
   "outputs": [],
   "source": [
    "#write fit function to find the unique words in the sentence and its dimension and store it in dictionary with\n",
    "#as key and indexes as columns or dimension\n",
    "\n",
    "#for ease the input to fit function is a list containing list of sentences\n",
    "\n",
    "def fit(dataset):\n",
    "    word_unique = set()                #remove duplicate adds hence words will be unique\n",
    "    for row in dataset:\n",
    "        for word in row.split(\" \"):\n",
    "            if len(word)>=2:          #avoids punctuation and comma as word\n",
    "                word_unique.add(word)\n",
    "            else:\n",
    "                continue\n",
    "                \n",
    "    word_unique = sorted(list(word_unique))\n",
    "    vocab = {j:i for i,j in enumerate(word_unique)}\n",
    "    return vocab\n",
    "        \n",
    "    \n",
    "    "
   ]
  },
  {
   "cell_type": "code",
   "execution_count": 20,
   "metadata": {},
   "outputs": [
    {
     "name": "stdout",
     "output_type": "stream",
     "text": [
      "{'bag': 0, 'fit': 1, 'function': 2, 'is': 3, 'of': 4, 'test': 5, 'this': 6, 'to': 7, 'words': 8}\n"
     ]
    }
   ],
   "source": [
    "#test fit function\n",
    "vocab = fit([\"test bag of words\", \"this is to test fit function of bag of words\"])\n",
    "print(vocab)"
   ]
  },
  {
   "cell_type": "code",
   "execution_count": 42,
   "metadata": {},
   "outputs": [],
   "source": [
    "#create a sparse matrix containing frequency of the words\n",
    "def transform(text,vocab) :\n",
    "    rows=[]\n",
    "    columns=[]\n",
    "    values=[]\n",
    "    if isinstance(text,(list,)):\n",
    "        for idx,row in enumerate(tqdm(text)):\n",
    "            word_freq = dict(Counter(row.split()))\n",
    "            for word,freq in word_freq.items():\n",
    "                if len(word)<2:\n",
    "                    continue\n",
    "                else:\n",
    "                    col_index = vocab.get(word,-1)\n",
    "                    if col_index!=-1:\n",
    "                        rows.append(idx)\n",
    "                        columns.append(col_index)\n",
    "                        values.append(freq)\n",
    "                        \n",
    "        return csr_matrix((values, (rows,columns)), shape=(len(text),len(vocab)))\n",
    "        \n",
    "    else:\n",
    "        print(\"you need to pass list of strings\")\n",
    "        \n",
    "    \n",
    "    \n",
    "    "
   ]
  },
  {
   "cell_type": "code",
   "execution_count": 43,
   "metadata": {},
   "outputs": [
    {
     "name": "stderr",
     "output_type": "stream",
     "text": [
      "100%|██████████| 2/2 [00:00<00:00, 6875.91it/s]"
     ]
    },
    {
     "name": "stdout",
     "output_type": "stream",
     "text": [
      "['but', 'centerpiece', 'economic', 'economists', 'for', 'is', 'its', 'lagrange', 'method', 'multipliers', 'of', 'optimization', 'poorly', 'problems', 'solving', 'taught', 'technique', 'the', 'theory', 'unfortunately', 'usually', 'workhorse']\n",
      "[[0 0 0 1 1 1 0 1 1 1 1 1 0 1 1 0 0 2 0 0 0 1]\n",
      " [1 1 1 0 0 1 1 0 0 0 1 0 1 0 0 1 1 1 1 1 1 0]]\n"
     ]
    },
    {
     "name": "stderr",
     "output_type": "stream",
     "text": [
      "\n"
     ]
    }
   ],
   "source": [
    "strings = [\"the method of lagrange multipliers is the economists workhorse for solving optimization problems\",\n",
    "           \"the technique is a centerpiece of economic theory but unfortunately its usually taught poorly\"]\n",
    "vocab = fit(strings)\n",
    "print(list(vocab.keys()))\n",
    "print(transform(strings, vocab).toarray())"
   ]
  },
  {
   "cell_type": "code",
   "execution_count": 46,
   "metadata": {},
   "outputs": [
    {
     "name": "stdout",
     "output_type": "stream",
     "text": [
      "['but', 'centerpiece', 'economic', 'economists', 'for', 'is', 'its', 'lagrange', 'method', 'multipliers', 'of', 'optimization', 'poorly', 'problems', 'solving', 'taught', 'technique', 'the', 'theory', 'unfortunately', 'usually', 'workhorse']\n",
      "[[0 0 0 1 1 1 0 1 1 1 1 1 0 1 1 0 0 2 0 0 0 1]\n",
      " [1 1 1 0 0 1 1 0 0 0 1 0 1 0 0 1 1 1 1 1 1 0]]\n"
     ]
    }
   ],
   "source": [
    "#Comparing results with count vectorizer\n",
    "from sklearn.feature_extraction.text import CountVectorizer\n",
    "\n",
    "vec = CountVectorizer(analyzer='word')\n",
    "\n",
    "vec.fit(strings)\n",
    "print(vec.get_feature_names())\n",
    "feature_matrix_2 = vec.transform(strings)\n",
    "print(feature_matrix_2.toarray())"
   ]
  },
  {
   "cell_type": "code",
   "execution_count": null,
   "metadata": {},
   "outputs": [],
   "source": []
  }
 ],
 "metadata": {
  "kernelspec": {
   "display_name": "Python 3",
   "language": "python",
   "name": "python3"
  },
  "language_info": {
   "codemirror_mode": {
    "name": "ipython",
    "version": 3
   },
   "file_extension": ".py",
   "mimetype": "text/x-python",
   "name": "python",
   "nbconvert_exporter": "python",
   "pygments_lexer": "ipython3",
   "version": "3.8.3"
  }
 },
 "nbformat": 4,
 "nbformat_minor": 4
}
